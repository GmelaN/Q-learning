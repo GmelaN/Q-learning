{
 "cells": [
  {
   "cell_type": "code",
   "execution_count": 1,
   "metadata": {},
   "outputs": [],
   "source": [
    "import numpy as np\n",
    "import random"
   ]
  },
  {
   "cell_type": "code",
   "execution_count": 226,
   "metadata": {},
   "outputs": [],
   "source": [
    "EMPTY = 0\n",
    "AGENT = 1\n",
    "WALL = 8\n",
    "DEST = 9\n",
    "\n",
    "\n",
    "env = [\n",
    "    [1, 0, 0, 0, 8, 8, 8, 8],\n",
    "    [8, 8, 0, 8, 0, 0, 0, 8],\n",
    "    [8, 0, 0, 8, 0, 8, 0, 8],\n",
    "    [8, 0, 8, 8, 0, 8, 0, 8],\n",
    "    [8, 0, 8, 0, 0, 8, 0, 8],\n",
    "    [8, 0, 8, 0, 8, 8, 0, 8],\n",
    "    [8, 0, 0, 0, 8, 0, 0, 9],\n",
    "    [8, 8, 8, 8, 8, 8, 8, 8]\n",
    "]\n",
    "\n",
    "\n",
    "ACTIONS = ((0, 1), (1, 0), (-1, 0), (0, -1))\n",
    "\n",
    "REWARD_NORMAL = 0\n",
    "REWARD_WALL = -1\n",
    "REWARD_FOUND = 100\n",
    "\n",
    "initial_state = (0, 0)\n",
    "\n",
    "# [state_x, state_y, action] = q_value\n",
    "q_table = np.zeros((len(env), len(env), len(ACTIONS)))"
   ]
  },
  {
   "cell_type": "code",
   "execution_count": 229,
   "metadata": {},
   "outputs": [],
   "source": [
    "episodes = 16\n",
    "alpha = 0.1\n",
    "gamma = 0.9\n",
    "epsilon = 0.9\n",
    "\n",
    "for i in range(episodes):\n",
    "    done = False\n",
    "    current_state = initial_state\n",
    "\n",
    "    while not done:\n",
    "        # epsilon-greedy strategy\n",
    "        if random.uniform(0, 1) < epsilon:\n",
    "            action = random.randint(0, len(ACTIONS) - 1)\n",
    "\n",
    "        else:\n",
    "            action = np.argmax(q_table[current_state[0], current_state[1]])\n",
    "\n",
    "    \n",
    "        next_state = (current_state[0] + ACTIONS[action][0], current_state[1] + ACTIONS[action][1])\n",
    "\n",
    "        if next_state[0] >= len(env) or next_state[0] < 0 or next_state[1] >= len(env) or next_state[1] < 0 or env[next_state[0]][next_state[1]] == WALL:\n",
    "            next_state = current_state\n",
    "            reward = REWARD_WALL\n",
    "\n",
    "        elif env[next_state[0]][next_state[1]] == DEST:\n",
    "            reward = REWARD_FOUND\n",
    "            done = True\n",
    "\n",
    "        else: # EMPTY OR AGENT\n",
    "            reward = REWARD_NORMAL\n",
    "\n",
    "        old_q_value = q_table[current_state[0], current_state[1], action]\n",
    "        next_max = np.max(q_table[next_state[0], next_state[1]])\n",
    "        new_value = old_q_value + alpha * (reward + gamma * next_max - old_q_value)\n",
    "        q_table[current_state[0], current_state[1], action] = new_value\n",
    "    \n",
    "        current_state = next_state"
   ]
  },
  {
   "cell_type": "code",
   "execution_count": 232,
   "metadata": {},
   "outputs": [
    {
     "data": {
      "text/plain": [
       "[[1, 1, 1, 1, 8, 8, 8, 8],\n",
       " [8, 8, 1, 8, 1, 1, 1, 8],\n",
       " [8, 1, 1, 8, 1, 8, 1, 8],\n",
       " [8, 1, 8, 8, 1, 8, 1, 8],\n",
       " [8, 1, 8, 1, 1, 8, 1, 8],\n",
       " [8, 1, 8, 1, 8, 8, 1, 8],\n",
       " [8, 1, 1, 1, 8, 0, 1, 9],\n",
       " [8, 8, 8, 8, 8, 8, 8, 8]]"
      ]
     },
     "execution_count": 232,
     "metadata": {},
     "output_type": "execute_result"
    }
   ],
   "source": [
    "map = env.copy()\n",
    "\n",
    "state = [0, 0]\n",
    "\n",
    "iteration = 0\n",
    "while env[state[0]][state[1]] != DEST:\n",
    "    if iteration > 300:\n",
    "        break\n",
    "\n",
    "    action = ACTIONS[np.argmax(q_table[tuple(state)])]\n",
    "    map[state[0]][state[1]] = 1\n",
    "    state[0] += action[0]\n",
    "    state[1] += action[1]\n",
    "\n",
    "    iteration += 1\n",
    "\n",
    "map"
   ]
  }
 ],
 "metadata": {
  "kernelspec": {
   "display_name": "RL",
   "language": "python",
   "name": "python3"
  },
  "language_info": {
   "codemirror_mode": {
    "name": "ipython",
    "version": 3
   },
   "file_extension": ".py",
   "mimetype": "text/x-python",
   "name": "python",
   "nbconvert_exporter": "python",
   "pygments_lexer": "ipython3",
   "version": "3.11.7"
  }
 },
 "nbformat": 4,
 "nbformat_minor": 2
}
