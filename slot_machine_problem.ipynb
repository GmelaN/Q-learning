{
 "cells": [
  {
   "cell_type": "markdown",
   "metadata": {},
   "source": [
    "# 다중 슬롯머신 문제\n",
    "\n",
    "## 문제 설명\n",
    "\n",
    "- 동일한 게임을 수행하는 5개의 슬롯 머신\n",
    "\n",
    "  - 각 슬롯머신의 성공률은 다름\n",
    "\n",
    "- 돈을 걸고 슬롯 머신을 돌리면 0배 또는 2배를 땀\n",
    "\n",
    "- 게임을 1000번 수행했을 때 최대 금액을 따려면 어떻게 해야 하는가?"
   ]
  },
  {
   "cell_type": "markdown",
   "metadata": {},
   "source": [
    "## 톰슨 샘플링 모델\n",
    "\n",
    "- 최소한의 비용으로 가장 후한 슬롯머신 찾기"
   ]
  },
  {
   "cell_type": "code",
   "execution_count": 1,
   "metadata": {},
   "outputs": [],
   "source": [
    "import numpy as np"
   ]
  },
  {
   "cell_type": "markdown",
   "metadata": {},
   "source": [
    "### 각 슬롯머신의 승률 리스트"
   ]
  },
  {
   "cell_type": "code",
   "execution_count": 19,
   "metadata": {},
   "outputs": [],
   "source": [
    "conversion_rate = [0.15, 0.04, 0.13, 0.11, 0.05]"
   ]
  },
  {
   "cell_type": "markdown",
   "metadata": {},
   "source": [
    "### 샘플 수 설정"
   ]
  },
  {
   "cell_type": "code",
   "execution_count": 20,
   "metadata": {},
   "outputs": [],
   "source": [
    "N = 100"
   ]
  },
  {
   "cell_type": "markdown",
   "metadata": {},
   "source": [
    "### 각 샘플마다 모든 슬롯머신에 대한 승패의 집합 정의\n",
    "\n",
    "- `X`는 각 슬롯머신의 승패 여부를 기록"
   ]
  },
  {
   "cell_type": "code",
   "execution_count": 22,
   "metadata": {},
   "outputs": [],
   "source": [
    "X = np.zeros(shape=(N, len(conversion_rate)))\n",
    "\n",
    "for i in range(N):\n",
    "    for j in range(len(conversion_rate)):\n",
    "        # 샘플 수만큼 각 슬롯머신을 돌린 결과를 기록\n",
    "        if np.random.rand() < conversion_rate[j]:\n",
    "            X[i][j] = 1"
   ]
  },
  {
   "cell_type": "markdown",
   "metadata": {},
   "source": [
    "### 슬롯머신 결과를 담을 리스트\n",
    "\n",
    "- 사전 확률에 반영됨"
   ]
  },
  {
   "cell_type": "code",
   "execution_count": 23,
   "metadata": {},
   "outputs": [],
   "source": [
    "win_count = np.zeros(N)\n",
    "lose_count = np.zeros(N)"
   ]
  },
  {
   "cell_type": "markdown",
   "metadata": {},
   "source": [
    "### 베타 분포로부터 난수를 취해 전체 슬롯머신에서 가장 높은 값을 찾기\n",
    "\n",
    "- `win_count`와 `lose_count`는 지금까지 관찰했던 값들: **사전 확률**을 구하는 데 반영\n",
    "\n",
    "- `random_beta`는 사전 확률을 업데이트하기 위한 값\n",
    "\n",
    "  - 현재까지 관측했던 값을 바탕으로 계산한 각 슬롯머신의 성공 확률: 한 가지 가능한 실현값"
   ]
  },
  {
   "cell_type": "code",
   "execution_count": 24,
   "metadata": {},
   "outputs": [],
   "source": [
    "for i in range(N):\n",
    "    # 현재 선택된 슬롯머신의 인덱스\n",
    "    selected = 0\n",
    "    # 가장 높은 승률을 슬롯머신의 승률\n",
    "    max_random = 0\n",
    "\n",
    "    for j in range(len(conversion_rate)):\n",
    "        # 베타 확률 분포로부터 각 슬롯 머신의 성공 확률에 대한 추정치 업데이트\n",
    "        random_beta = np.random.beta(win_count[j] + 1, lose_count[j] + 1)\n",
    "\n",
    "        # 랜덤 값이 지금까지 관측한 최고 값보다 큰 경우\n",
    "        if random_beta > max_random:\n",
    "            # 관측치 업데이트\n",
    "            max_random = random_beta\n",
    "            selected = j\n",
    "\n",
    "            # 슬롯머신 결과 리스트 업데이트\n",
    "            if X[i][selected] == 1:\n",
    "                win_count[selected] += 1\n",
    "            else:\n",
    "                lose_count[selected] += 1"
   ]
  },
  {
   "cell_type": "markdown",
   "metadata": {},
   "source": [
    "### 가장 승률이 좋다고 짐작되는 슬롯머신 출력"
   ]
  },
  {
   "cell_type": "code",
   "execution_count": 25,
   "metadata": {},
   "outputs": [
    {
     "name": "stdout",
     "output_type": "stream",
     "text": [
      "Machine 1 was selected 100.0 times.\n",
      "Machine 2 was selected 49.0 times.\n",
      "Machine 3 was selected 70.0 times.\n",
      "Machine 4 was selected 14.0 times.\n",
      "Machine 5 was selected 17.0 times.\n",
      "best machine is: 1\n"
     ]
    }
   ],
   "source": [
    "selected = win_count + lose_count\n",
    "\n",
    "for i in range(len(conversion_rate)):\n",
    "    print(f\"Machine {str(i + 1)} was selected {str(selected[i])} times.\")\n",
    "\n",
    "print(f\"best machine is: {str(np.argmax(selected) + 1)}\")"
   ]
  }
 ],
 "metadata": {
  "kernelspec": {
   "display_name": "bansim",
   "language": "python",
   "name": "python3"
  },
  "language_info": {
   "codemirror_mode": {
    "name": "ipython",
    "version": 3
   },
   "file_extension": ".py",
   "mimetype": "text/x-python",
   "name": "python",
   "nbconvert_exporter": "python",
   "pygments_lexer": "ipython3",
   "version": "3.11.7"
  }
 },
 "nbformat": 4,
 "nbformat_minor": 2
}
